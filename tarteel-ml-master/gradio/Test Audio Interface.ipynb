{
 "cells": [
  {
   "cell_type": "markdown",
   "metadata": {},
   "source": [
    "### Define Preprocessing, Model, Postprocessing"
   ]
  },
  {
   "cell_type": "code",
   "execution_count": 5,
   "metadata": {},
   "outputs": [],
   "source": [
    "import subprocess\n",
    "import tempfile\n",
    "import gradio\n",
    "import base64\n",
    "import numpy as np\n",
    "from io import BytesIO\n",
    "\n",
    "MODEL_PATH = \"../exp0/models/model_step_2000.pt\"\n",
    "OUTPUT_FILE = \"pred_train.txt\"\n",
    "\n",
    "'''\n",
    "The microphone input sends a base64 representation of a wav file to the backend, so this should be\n",
    "decoded and saved into a file object that can be used by the translate.py script. The script below\n",
    "should do that.\n",
    "'''\n",
    "def preprocessing(inp):\n",
    "    file_obj = gradio.preprocessing_utils.decode_base64_to_wav_file(inp)\n",
    "    return file_obj\n",
    "\n",
    "'''\n",
    "The model function here simply calls the `translate.py` script with the appropriate command line\n",
    "arguments. I was unable to test this since I ran into errors using opennmt.\n",
    "'''\n",
    "def model(file_obj):\n",
    "    src_file = tempfile.NamedTemporaryFile()\n",
    "    src_file.close()\n",
    "    with open(src_file.name, 'w') as f:\n",
    "        f.write(file_obj.name)\n",
    "    \n",
    "    subprocess.call(f\"python translate.py -data_type audio \"\n",
    "                    f\"-model {MODEL_PATH} \"\n",
    "                    f\"-src_dir / -src {src_file.name} \"\n",
    "                    f\"-output {OUTPUT_FILE} -verbose\", shell=True)\n",
    "    \n",
    "    with open(src_file.name, 'r') as f:\n",
    "        first_line = f.readline()\n",
    "    return first_line\n",
    "    \n",
    "'''\n",
    "The textbox interface displays a string. I don't think any additional steps need to be done to postprocess \n",
    "the interface, but I could be mistaken since I couldn't get translate.py working\n",
    "'''\n",
    "def postprocessing(out):\n",
    "    return "
   ]
  },
  {
   "cell_type": "markdown",
   "metadata": {},
   "source": [
    "### Launch `Gradio` Interface "
   ]
  },
  {
   "cell_type": "code",
   "execution_count": 6,
   "metadata": {},
   "outputs": [
    {
     "ename": "AttributeError",
     "evalue": "module 'gradio.inputs' has no attribute 'Microphone'",
     "output_type": "error",
     "traceback": [
      "\u001b[1;31m---------------------------------------------------------------------------\u001b[0m",
      "\u001b[1;31mAttributeError\u001b[0m                            Traceback (most recent call last)",
      "\u001b[1;32m<ipython-input-6-fe40078ec2b1>\u001b[0m in \u001b[0;36m<module>\u001b[1;34m\u001b[0m\n\u001b[1;32m----> 1\u001b[1;33m \u001b[0minp\u001b[0m \u001b[1;33m=\u001b[0m \u001b[0mgradio\u001b[0m\u001b[1;33m.\u001b[0m\u001b[0minputs\u001b[0m\u001b[1;33m.\u001b[0m\u001b[0mMicrophone\u001b[0m\u001b[1;33m(\u001b[0m\u001b[0mpreprocessing_fn\u001b[0m\u001b[1;33m=\u001b[0m\u001b[0mpreprocessing\u001b[0m\u001b[1;33m)\u001b[0m\u001b[1;33m\u001b[0m\u001b[1;33m\u001b[0m\u001b[0m\n\u001b[0m\u001b[0;32m      2\u001b[0m \u001b[0mout\u001b[0m \u001b[1;33m=\u001b[0m \u001b[0mgradio\u001b[0m\u001b[1;33m.\u001b[0m\u001b[0moutputs\u001b[0m\u001b[1;33m.\u001b[0m\u001b[0mLabel\u001b[0m\u001b[1;33m(\u001b[0m\u001b[0mpostprocessing_fn\u001b[0m\u001b[1;33m=\u001b[0m\u001b[0mpostprocessing\u001b[0m\u001b[1;33m)\u001b[0m\u001b[1;33m\u001b[0m\u001b[1;33m\u001b[0m\u001b[0m\n\u001b[0;32m      3\u001b[0m \u001b[0mio\u001b[0m \u001b[1;33m=\u001b[0m \u001b[0mgradio\u001b[0m\u001b[1;33m.\u001b[0m\u001b[0mInterface\u001b[0m\u001b[1;33m(\u001b[0m\u001b[0minputs\u001b[0m\u001b[1;33m=\u001b[0m\u001b[0minp\u001b[0m\u001b[1;33m,\u001b[0m \u001b[0moutputs\u001b[0m\u001b[1;33m=\u001b[0m\u001b[1;34m\"textbox\"\u001b[0m\u001b[1;33m,\u001b[0m \u001b[0mmodel_type\u001b[0m\u001b[1;33m=\u001b[0m\u001b[1;34m\"pyfunc\"\u001b[0m\u001b[1;33m,\u001b[0m \u001b[0mmodel\u001b[0m\u001b[1;33m=\u001b[0m\u001b[0mmodel\u001b[0m\u001b[1;33m)\u001b[0m\u001b[1;33m\u001b[0m\u001b[1;33m\u001b[0m\u001b[0m\n\u001b[0;32m      4\u001b[0m \u001b[0mio\u001b[0m\u001b[1;33m.\u001b[0m\u001b[0mlaunch\u001b[0m\u001b[1;33m(\u001b[0m\u001b[0mvalidate\u001b[0m\u001b[1;33m=\u001b[0m\u001b[1;32mFalse\u001b[0m\u001b[1;33m,\u001b[0m \u001b[0mshare\u001b[0m\u001b[1;33m=\u001b[0m\u001b[1;32mFalse\u001b[0m\u001b[1;33m)\u001b[0m\u001b[1;33m\u001b[0m\u001b[1;33m\u001b[0m\u001b[0m\n",
      "\u001b[1;31mAttributeError\u001b[0m: module 'gradio.inputs' has no attribute 'Microphone'"
     ]
    }
   ],
   "source": [
    "inp = gradio.inputs.Microphone(preprocessing_fn=preprocessing)\n",
    "out = gradio.outputs.Textbox(postprocessing_fn=postprocessing)\n",
    "io = gradio.Interface(inputs=inp, outputs=out, model_type=\"pyfunc\", model=model)\n",
    "io.launch(validate=False, share=False)"
   ]
  }
 ],
 "metadata": {
  "kernelspec": {
   "display_name": "Python 3.6 (tensorflow)",
   "language": "python",
   "name": "tensorflow"
  },
  "language_info": {
   "codemirror_mode": {
    "name": "ipython",
    "version": 3
   },
   "file_extension": ".py",
   "mimetype": "text/x-python",
   "name": "python",
   "nbconvert_exporter": "python",
   "pygments_lexer": "ipython3",
   "version": "3.6.7"
  }
 },
 "nbformat": 4,
 "nbformat_minor": 2
}
