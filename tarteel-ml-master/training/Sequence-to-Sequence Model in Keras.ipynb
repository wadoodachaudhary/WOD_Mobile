{
 "cells": [
  {
   "cell_type": "code",
   "execution_count": 150,
   "metadata": {},
   "outputs": [
    {
     "name": "stdout",
     "output_type": "stream",
     "text": [
      "The autoreload extension is already loaded. To reload it, use:\n",
      "  %reload_ext autoreload\n"
     ]
    }
   ],
   "source": [
    "import numpy as np\n",
    "import matplotlib.pyplot as plt\n",
    "import tensorflow as tf\n",
    "import dill as pickle\n",
    "from tensorflow.keras.models import Model\n",
    "from tensorflow.keras.layers import Input, LSTM, Dense\n",
    "\n",
    "%matplotlib inline\n",
    "%load_ext autoreload\n",
    "%autoreload 2"
   ]
  },
  {
   "cell_type": "markdown",
   "metadata": {},
   "source": [
    "### Download and Preprocess Audio Files in Surah Fatihah"
   ]
  },
  {
   "cell_type": "markdown",
   "metadata": {},
   "source": [
    "This will take quite a bit of time, but the good news is that you only need to do it once! After you've done this once, the files will be saved locally and you can skip the cells in this section."
   ]
  },
  {
   "cell_type": "code",
   "execution_count": null,
   "metadata": {},
   "outputs": [],
   "source": [
    "%run -i \"../download.py\" -s 1"
   ]
  },
  {
   "cell_type": "code",
   "execution_count": null,
   "metadata": {
    "scrolled": true
   },
   "outputs": [],
   "source": [
    "%run -i \"../audio_preprocessing/generate_features.py\" -f mfcc -s 1 --local_download_dir \"../.audio\" --output_dir \"../.outputs\" "
   ]
  },
  {
   "cell_type": "code",
   "execution_count": 6,
   "metadata": {},
   "outputs": [],
   "source": [
    "%run -i \"../audio_preprocessing/generate_one_hot_encoding.py\" -i \"../data/data-uthmani.json\" -o \"../data/one-hot.pkl\" "
   ]
  },
  {
   "cell_type": "markdown",
   "metadata": {},
   "source": [
    "### Write Methods to Load the Dataset"
   ]
  },
  {
   "cell_type": "code",
   "execution_count": 151,
   "metadata": {},
   "outputs": [],
   "source": [
    "\"\"\"\n",
    "Inspired by: https://github.com/keras-team/keras/blob/master/examples/lstm_seq2seq.py\n",
    "\"\"\"\n",
    "\n",
    "def convert_list_of_arrays_to_padded_array(list_varying_sizes, pad_value=0):\n",
    "    '''\n",
    "    Converts a list of arrays of varying sizes to a single numpy array. The extra elements are set to 0\n",
    "    '''\n",
    "    max_shape = [0]*len(list_varying_sizes[0].shape)\n",
    "    # first pass to compute the max size\n",
    "    for arr in list_varying_sizes:\n",
    "        shape = arr.shape\n",
    "        max_shape = [max(s1, s2) for s1, s2 in zip(shape, max_shape)]\n",
    "    padded_array = pad_value * np.ones((len(list_varying_sizes), *max_shape))\n",
    "    \n",
    "    # second pass to fill in the values in the array:\n",
    "    for a, arr in enumerate(list_varying_sizes):\n",
    "        r, c = arr.shape  # TODO(abidlabs): maybe make more general to more than just 2D arrays.\n",
    "        padded_array[a, :r, :c] = arr\n",
    "    \n",
    "    return padded_array\n",
    "\n",
    "def preprocess_encoder_input(arr):\n",
    "    '''\n",
    "    Simple method to handle the complex MFCC coefs that are produced during preprocessing. This means:\n",
    "    1. (For now), discarding one of the channels of the MFCC coefs\n",
    "    2. Collapsing any empty dimensions\n",
    "    '''\n",
    "    return arr.squeeze()[0]\n",
    "\n",
    "\n",
    "# Load every one-hot-encoded output as a dictionary\n",
    "with open('../data/one-hot.pkl', 'rb') as one_hot_quran_pickle_file:\n",
    "    one_hot_obj = pickle.load(one_hot_quran_pickle_file)\n",
    "\n",
    "\n",
    "def get_one_hot_encoded_verse(surah_num, ayah_num): \n",
    "    '''\n",
    "    Converts a one-hot-encoded verse into forms that can be used by the LSTM decoder\n",
    "    \n",
    "    :param surah_num: an int designating the chapter number, one-indexed\n",
    "    :param ayah_num: an int designating the verse number, one-indexed\n",
    "    '''\n",
    "    # Load the preprocessed one-hot encoding \n",
    "    one_hot_verse = one_hot_obj['quran']['surahs'][surah_num - 1]['ayahs'][ayah_num - 1]['text']\n",
    "    num_chars_in_verse, num_unique_chars = one_hot_verse.shape\n",
    "    \n",
    "    # Generate decoder_input_data \n",
    "    decoder_input = np.zeros((num_chars_in_verse+2, num_unique_chars+2))\n",
    "    decoder_input[0, :] = [0] * num_unique_chars + [1, 0] # START token\n",
    "    decoder_input[1:num_chars_in_verse+1, :-2] = one_hot_verse # original verse\n",
    "    decoder_input[-1, :] = [0] * num_unique_chars + [0, 1] # STOP token\n",
    "\n",
    "    # Generate decoder_target_data \n",
    "    decoder_target = np.zeros((num_chars_in_verse+2, num_unique_chars+2))\n",
    "    decoder_target[:num_chars_in_verse, :-2] = one_hot_verse # original verse\n",
    "    decoder_target[-2, :] = [0] * num_unique_chars + [0, 1] # STOP token\n",
    "    \n",
    "    return decoder_input, decoder_target\n",
    "\n",
    "    \n",
    "def build_dataset(local_coefs_dir='../.outputs/mfcc', surahs=[1], n=100):\n",
    "    '''\n",
    "    Builds a dataset to be used with the sequence-to-sequence network.\n",
    "    \n",
    "    :param local_coefs_dir: a string with the path of the coefficients for prediction\n",
    "    '''\n",
    "    \n",
    "    def get_encoder_and_decoder_data(n=100):\n",
    "        count = 0\n",
    "        encoder_input_data = []\n",
    "        decoder_input_data = []\n",
    "        decoder_target_data = []\n",
    "        for surah_num in surahs:\n",
    "            local_surah_dir = os.path.join(local_coefs_dir, \"s\" + str(surah_num))\n",
    "            for _, ayah_directories, _ in os.walk(local_surah_dir):\n",
    "                for ayah_directory in ayah_directories:\n",
    "                    ayah_num = ayah_directory[1:]\n",
    "                    local_ayah_dir = os.path.join(local_surah_dir, ayah_directory)\n",
    "                    for _, _, recording_filenames in os.walk(local_ayah_dir):\n",
    "                        for recording_filename in recording_filenames:\n",
    "                            local_coefs_path = os.path.join(local_ayah_dir, recording_filename)\n",
    "                            encoder_input = np.load(local_coefs_path)\n",
    "                            encoder_input = preprocess_encoder_input(encoder_input)\n",
    "                            encoder_input_data.append(encoder_input)\n",
    "\n",
    "                            decoder_input, decoder_target = get_one_hot_encoded_verse(int(surah_num), int(ayah_num))\n",
    "                            decoder_input_data.append(decoder_input)\n",
    "                            decoder_target_data.append(decoder_target)\n",
    "                            count += 1\n",
    "                            if count == n:\n",
    "                                return encoder_input_data, decoder_input_data, decoder_target_data\n",
    "        return encoder_input_data, decoder_input_data, decoder_target_data\n",
    "    \n",
    "    \n",
    "    encoder_input_data, decoder_input_data, decoder_target_data = get_encoder_and_decoder_data(n=n)\n",
    "    encoder_input_data = convert_list_of_arrays_to_padded_array(encoder_input_data)\n",
    "    decoder_input_data = convert_list_of_arrays_to_padded_array(decoder_input_data)\n",
    "    decoder_target_data = convert_list_of_arrays_to_padded_array(decoder_target_data)\n",
    "    return encoder_input_data, decoder_input_data, decoder_target_data"
   ]
  },
  {
   "cell_type": "code",
   "execution_count": 152,
   "metadata": {},
   "outputs": [],
   "source": [
    "batch_size = 10  # Batch size for training.\n",
    "epochs = 25  # Number of epochs to train for.\n",
    "latent_dim = 10  # Latent dimensionality of the encoding space.\n",
    "n = 100\n",
    "\n",
    "encoder_input_data, decoder_input_data, decoder_target_data = build_dataset(n=n)"
   ]
  },
  {
   "cell_type": "code",
   "execution_count": 153,
   "metadata": {},
   "outputs": [
    {
     "name": "stdout",
     "output_type": "stream",
     "text": [
      "(100, 1067, 13)\n",
      "(100, 40, 61)\n",
      "(100, 40, 61)\n"
     ]
    }
   ],
   "source": [
    "[print(a.shape) for a in [encoder_input_data, decoder_input_data, decoder_target_data]]\n",
    "\n",
    "max_encoder_seq_length = encoder_input_data.shape[1]\n",
    "max_decoder_seq_length = decoder_input_data.shape[1]\n",
    "num_encoder_tokens = encoder_input_data.shape[-1]\n",
    "num_decoder_tokens = decoder_input_data.shape[-1]"
   ]
  },
  {
   "cell_type": "markdown",
   "metadata": {},
   "source": [
    "### Build a Keras Model for Training"
   ]
  },
  {
   "cell_type": "code",
   "execution_count": 113,
   "metadata": {},
   "outputs": [],
   "source": [
    "# Define an input sequence and process it.\n",
    "encoder_inputs = Input(shape=(None, num_encoder_tokens))\n",
    "encoder = LSTM(latent_dim, return_state=True)\n",
    "encoder_outputs, state_h, state_c = encoder(encoder_inputs)\n",
    "# We discard `encoder_outputs` and only keep the states.\n",
    "encoder_states = [state_h, state_c]\n",
    "\n",
    "# Set up the decoder, using `encoder_states` as initial state.\n",
    "decoder_inputs = Input(shape=(None, num_decoder_tokens))\n",
    "# We set up our decoder to return full output sequences,\n",
    "# and to return internal states as well. We don't use the\n",
    "# return states in the training model, but we will use them in inference.\n",
    "decoder_lstm = LSTM(latent_dim, return_sequences=True, return_state=True)\n",
    "decoder_outputs, _, _ = decoder_lstm(decoder_inputs,\n",
    "                                     initial_state=encoder_states)\n",
    "decoder_dense = Dense(num_decoder_tokens, activation='softmax')\n",
    "decoder_outputs = decoder_dense(decoder_outputs)\n",
    "\n",
    "# Define the model that will turn\n",
    "# `encoder_input_data` & `decoder_input_data` into `decoder_target_data`\n",
    "model = Model([encoder_inputs, decoder_inputs], decoder_outputs)\n",
    "\n",
    "# Run training\n",
    "model.compile(optimizer='rmsprop', loss='categorical_crossentropy')"
   ]
  },
  {
   "cell_type": "code",
   "execution_count": 114,
   "metadata": {},
   "outputs": [
    {
     "name": "stdout",
     "output_type": "stream",
     "text": [
      "Train on 80 samples, validate on 20 samples\n",
      "Epoch 1/25\n",
      "80/80 [==============================] - 12s 144ms/step - loss: 3.5909 - val_loss: 2.4462\n",
      "Epoch 2/25\n",
      "80/80 [==============================] - 7s 93ms/step - loss: 3.5590 - val_loss: 2.4280\n",
      "Epoch 3/25\n",
      "80/80 [==============================] - 8s 97ms/step - loss: 3.5232 - val_loss: 2.4028\n",
      "Epoch 4/25\n",
      "80/80 [==============================] - 7s 94ms/step - loss: 3.4681 - val_loss: 2.3597\n",
      "Epoch 5/25\n",
      "80/80 [==============================] - 8s 98ms/step - loss: 3.3633 - val_loss: 2.2845\n",
      "Epoch 6/25\n",
      "80/80 [==============================] - 8s 99ms/step - loss: 3.2324 - val_loss: 2.2125\n",
      "Epoch 7/25\n",
      "80/80 [==============================] - 8s 97ms/step - loss: 3.1318 - val_loss: 2.1556\n",
      "Epoch 8/25\n",
      "80/80 [==============================] - 7s 93ms/step - loss: 3.0533 - val_loss: 2.1089\n",
      "Epoch 9/25\n",
      "80/80 [==============================] - 8s 99ms/step - loss: 2.9862 - val_loss: 2.0692\n",
      "Epoch 10/25\n",
      "80/80 [==============================] - 8s 97ms/step - loss: 2.9259 - val_loss: 2.0341\n",
      "Epoch 11/25\n",
      "80/80 [==============================] - 8s 96ms/step - loss: 2.8704 - val_loss: 2.0023\n",
      "Epoch 12/25\n",
      "80/80 [==============================] - 8s 96ms/step - loss: 2.8186 - val_loss: 1.9734\n",
      "Epoch 13/25\n",
      "80/80 [==============================] - 8s 94ms/step - loss: 2.7700 - val_loss: 1.9464\n",
      "Epoch 14/25\n",
      "80/80 [==============================] - 8s 96ms/step - loss: 2.7241 - val_loss: 1.9212\n",
      "Epoch 15/25\n",
      "80/80 [==============================] - 8s 100ms/step - loss: 2.6810 - val_loss: 1.8980\n",
      "Epoch 16/25\n",
      "80/80 [==============================] - 8s 97ms/step - loss: 2.6404 - val_loss: 1.8767\n",
      "Epoch 17/25\n",
      "80/80 [==============================] - 8s 96ms/step - loss: 2.6030 - val_loss: 1.8578\n",
      "Epoch 18/25\n",
      "80/80 [==============================] - 8s 100ms/step - loss: 2.5681 - val_loss: 1.8412\n",
      "Epoch 19/25\n",
      "80/80 [==============================] - 7s 92ms/step - loss: 2.5364 - val_loss: 1.8264\n",
      "Epoch 20/25\n",
      "80/80 [==============================] - 7s 93ms/step - loss: 2.5080 - val_loss: 1.8140\n",
      "Epoch 21/25\n",
      "80/80 [==============================] - 7s 86ms/step - loss: 2.4827 - val_loss: 1.8044\n",
      "Epoch 22/25\n",
      "80/80 [==============================] - 8s 97ms/step - loss: 2.4607 - val_loss: 1.7967\n",
      "Epoch 23/25\n",
      "80/80 [==============================] - 7s 93ms/step - loss: 2.4421 - val_loss: 1.7899\n",
      "Epoch 24/25\n",
      "80/80 [==============================] - 8s 100ms/step - loss: 2.4262 - val_loss: 1.7863\n",
      "Epoch 25/25\n",
      "80/80 [==============================] - 8s 95ms/step - loss: 2.4128 - val_loss: 1.7812\n"
     ]
    }
   ],
   "source": [
    "history = model.fit([encoder_input_data, decoder_input_data], decoder_target_data,\n",
    "              batch_size=batch_size,\n",
    "              epochs=epochs,\n",
    "              validation_split=0.2)"
   ]
  },
  {
   "cell_type": "code",
   "execution_count": 115,
   "metadata": {},
   "outputs": [
    {
     "data": {
      "text/plain": [
       "[<matplotlib.lines.Line2D at 0x23bb06c6e80>]"
      ]
     },
     "execution_count": 115,
     "metadata": {},
     "output_type": "execute_result"
    },
    {
     "data": {
      "image/png": "[encoded data removed]",
      "text/plain": [
       "<Figure size 432x288 with 1 Axes>"
      ]
     },
     "metadata": {
      "needs_background": "light"
     },
     "output_type": "display_data"
    }
   ],
   "source": [
    "plt.plot(range(epochs), history.history['val_loss'])\n",
    "plt.plot(range(epochs), history.history['loss'])"
   ]
  },
  {
   "cell_type": "markdown",
   "metadata": {},
   "source": [
    "The drop in loss curves suggest that the model is learning something. At this point, it hasn't overfit to the validation set, likely because our model is too simple. "
   ]
  },
  {
   "cell_type": "markdown",
   "metadata": {},
   "source": [
    "### Build Inference Model"
   ]
  },
  {
   "cell_type": "code",
   "execution_count": 116,
   "metadata": {},
   "outputs": [],
   "source": [
    "# Next: inference mode (sampling).\n",
    "# Here's the drill:\n",
    "# 1) encode input and retrieve initial decoder state\n",
    "# 2) run one step of decoder with this initial state\n",
    "# and a \"start of sequence\" token as target.\n",
    "# Output will be the next target token\n",
    "# 3) Repeat with the current target token and current states\n",
    "\n",
    "# Define sampling models\n",
    "encoder_model = Model(encoder_inputs, encoder_states)\n",
    "decoder_state_input_h = Input(shape=(latent_dim,))\n",
    "decoder_state_input_c = Input(shape=(latent_dim,))\n",
    "decoder_states_inputs = [decoder_state_input_h, decoder_state_input_c]\n",
    "decoder_outputs, state_h, state_c = decoder_lstm(\n",
    "    decoder_inputs, initial_state=decoder_states_inputs)\n",
    "decoder_states = [state_h, state_c]\n",
    "decoder_outputs = decoder_dense(decoder_outputs)\n",
    "decoder_model = Model(\n",
    "    [decoder_inputs] + decoder_states_inputs,\n",
    "    [decoder_outputs] + decoder_states)"
   ]
  },
  {
   "cell_type": "code",
   "execution_count": 159,
   "metadata": {},
   "outputs": [],
   "source": [
    "# Reverse-lookup token index to decode sequences back to\n",
    "# something readable.\n",
    "reverse_target_char_index = one_hot_obj['int_to_char']\n",
    "reverse_target_char_index[num_decoder_tokens-2] = '->'\n",
    "reverse_target_char_index[num_decoder_tokens-1] = '<-'\n",
    "\n",
    "target_char_index = {v: k for k, v in reverse_target_char_index.items()}"
   ]
  },
  {
   "cell_type": "code",
   "execution_count": 161,
   "metadata": {},
   "outputs": [
    {
     "name": "stdout",
     "output_type": "stream",
     "text": [
      "Predicted verse: ٱٱللِِِِِِِِِِِِِِِِِِِِِِِِِِِِِِِِِِِِِ\n",
      "Predicted verse: ٱٱللِِِِِِِِِِِِِِِِِِِِِِِِِِِِِِِِِِِِِ\n",
      "Predicted verse: ٱٱللِِِِِِِِِِِِِِِِِِِِِِِِِِِِِِِِِِِِِ\n",
      "Predicted verse: ٱٱللِِِِِِِِِِِِِِِِِِِِِِِِِِِِِِِِِِِِِ\n",
      "Predicted verse: ٱٱللِِِِِِِِِِِِِِِِِِِِِِِِِِِِِِِِِِِِِ\n",
      "Predicted verse: ٱٱللِِِِِِِِِِِِِِِِِِِِِِِِِِِِِِِِِِِِِ\n",
      "Predicted verse: ٱٱللِِِِِِِِِِِِِِِِِِِِِِِِِِِِِِِِِِِِِ\n",
      "Predicted verse: ٱٱللِِِِِِِِِِِِِِِِِِِِِِِِِِِِِِِِِِِِِ\n",
      "Predicted verse: ٱٱللِِِِِِِِِِِِِِِِِِِِِِِِِِِِِِِِِِِِِ\n",
      "Predicted verse: ٱٱللِِِِِِِِِِِِِِِِِِِِِِِِِِِِِِِِِِِِِ\n"
     ]
    }
   ],
   "source": [
    "def decode_sequence(input_seq):\n",
    "    # Encode the input as state vectors.\n",
    "    states_value = encoder_model.predict(input_seq)\n",
    "\n",
    "    # Generate empty target sequence of length 1.\n",
    "    target_seq = np.zeros((1, 1, num_decoder_tokens))\n",
    "    # Populate the first character of target sequence with the start character.\n",
    "    target_seq[0, 0, target_char_index['->']] = 1.\n",
    "\n",
    "    # Sampling loop for a batch of sequences\n",
    "    # (to simplify, here we assume a batch of size 1).\n",
    "    stop_condition = False\n",
    "    decoded_sentence = ''\n",
    "    while not stop_condition:\n",
    "        output_tokens, h, c = decoder_model.predict(\n",
    "            [target_seq] + states_value)\n",
    "\n",
    "        # Sample a token\n",
    "        sampled_token_index = np.argmax(output_tokens[0, -1, :])\n",
    "        sampled_char = reverse_target_char_index[sampled_token_index]\n",
    "        decoded_sentence += sampled_char\n",
    "\n",
    "        # Exit condition: either hit max length\n",
    "        # or find stop character.\n",
    "        if (sampled_char == '<-' or\n",
    "           len(decoded_sentence) > max_decoder_seq_length):\n",
    "            stop_condition = True\n",
    "\n",
    "        # Update the target sequence (of length 1).\n",
    "        target_seq = np.zeros((1, 1, num_decoder_tokens))\n",
    "        target_seq[0, 0, sampled_token_index] = 1.\n",
    "\n",
    "        # Update states\n",
    "        states_value = [h, c]\n",
    "\n",
    "    return decoded_sentence\n",
    "\n",
    "\n",
    "for seq_index in range(10):\n",
    "    # Take one sequence (part of the training set)\n",
    "    # for trying out decoding.\n",
    "    input_seq = encoder_input_data[seq_index: seq_index + 1]\n",
    "    decoded_sentence = decode_sequence(input_seq)\n",
    "    print('Predicted verse:', decoded_sentence)"
   ]
  }
 ],
 "metadata": {
  "kernelspec": {
   "display_name": "Python 3.6 (tensorflow)",
   "language": "python",
   "name": "tensorflow"
  },
  "language_info": {
   "codemirror_mode": {
    "name": "ipython",
    "version": 3
   },
   "file_extension": ".py",
   "mimetype": "text/x-python",
   "name": "python",
   "nbconvert_exporter": "python",
   "pygments_lexer": "ipython3",
   "version": "3.6.7"
  }
 },
 "nbformat": 4,
 "nbformat_minor": 2
}
